{
  "nbformat": 4,
  "nbformat_minor": 0,
  "metadata": {
    "colab": {
      "name": "WaveNet",
      "provenance": [],
      "collapsed_sections": []
    },
    "kernelspec": {
      "name": "python3",
      "display_name": "Python 3"
    },
    "language_info": {
      "name": "python"
    }
  },
  "cells": [
    {
      "cell_type": "code",
      "source": [
        "! cp /content/wavenet_model.py .\n",
        "! cp /content/wavenet_modules.py .\n",
        "! cp /content/audio_data.py .\n",
        "! cp /content/wavenet_training.py .\n",
        "! cp /content/model_logging.py ."
      ],
      "metadata": {
        "colab": {
          "base_uri": "https://localhost:8080/"
        },
        "id": "bZcELl9Ou70R",
        "outputId": "a6766e5c-2f55-4843-f9d8-f1450f77418f"
      },
      "execution_count": 25,
      "outputs": [
        {
          "output_type": "stream",
          "name": "stdout",
          "text": [
            "cp: '/content/wavenet_model.py' and './wavenet_model.py' are the same file\n",
            "cp: '/content/wavenet_modules.py' and './wavenet_modules.py' are the same file\n",
            "cp: '/content/audio_data.py' and './audio_data.py' are the same file\n",
            "cp: '/content/wavenet_training.py' and './wavenet_training.py' are the same file\n",
            "cp: '/content/model_logging.py' and './model_logging.py' are the same file\n"
          ]
        }
      ]
    },
    {
      "cell_type": "code",
      "execution_count": 26,
      "metadata": {
        "id": "UcAdJwrttu6X"
      },
      "outputs": [],
      "source": [
        "import torch\n",
        "from wavenet_model import *\n",
        "from audio_data import WavenetDataset\n",
        "from wavenet_training import *\n",
        "from model_logging import *"
      ]
    },
    {
      "cell_type": "code",
      "source": [
        "# initialize cuda option\n",
        "dtype = torch.FloatTensor # data type\n",
        "ltype = torch.LongTensor # label type\n",
        "\n",
        "use_cuda = torch.cuda.is_available()\n",
        "if use_cuda:\n",
        "    print('use gpu')\n",
        "    dtype = torch.cuda.FloatTensor\n",
        "    ltype = torch.cuda.LongTensor"
      ],
      "metadata": {
        "id": "4m1De89pwU51"
      },
      "execution_count": 27,
      "outputs": []
    },
    {
      "cell_type": "code",
      "source": [
        "model = WaveNetModel(layers=10,\n",
        "                     blocks=3,\n",
        "                     dilation_channels=32,\n",
        "                     residual_channels=32,\n",
        "                     skip_channels=1024,\n",
        "                     end_channels=512, \n",
        "                     output_length=16,\n",
        "                     dtype=dtype, \n",
        "                     bias=True)\n",
        "# model = load_latest_model_from('snapshots', use_cuda=use_cuda)\n",
        "\n",
        "print('model: ', model)\n",
        "print('receptive field: ', model.receptive_field)\n",
        "print('parameter count: ', model.parameter_count())"
      ],
      "metadata": {
        "colab": {
          "base_uri": "https://localhost:8080/"
        },
        "id": "5ZBYqV7VwZwI",
        "outputId": "637c0a57-8ecc-470d-b5db-ce9b8d9ff65d"
      },
      "execution_count": 28,
      "outputs": [
        {
          "output_type": "stream",
          "name": "stdout",
          "text": [
            "model:  WaveNetModel(\n",
            "  (filter_convs): ModuleList(\n",
            "    (0): Conv1d(32, 32, kernel_size=(2,), stride=(1,))\n",
            "    (1): Conv1d(32, 32, kernel_size=(2,), stride=(1,))\n",
            "    (2): Conv1d(32, 32, kernel_size=(2,), stride=(1,))\n",
            "    (3): Conv1d(32, 32, kernel_size=(2,), stride=(1,))\n",
            "    (4): Conv1d(32, 32, kernel_size=(2,), stride=(1,))\n",
            "    (5): Conv1d(32, 32, kernel_size=(2,), stride=(1,))\n",
            "    (6): Conv1d(32, 32, kernel_size=(2,), stride=(1,))\n",
            "    (7): Conv1d(32, 32, kernel_size=(2,), stride=(1,))\n",
            "    (8): Conv1d(32, 32, kernel_size=(2,), stride=(1,))\n",
            "    (9): Conv1d(32, 32, kernel_size=(2,), stride=(1,))\n",
            "    (10): Conv1d(32, 32, kernel_size=(2,), stride=(1,))\n",
            "    (11): Conv1d(32, 32, kernel_size=(2,), stride=(1,))\n",
            "    (12): Conv1d(32, 32, kernel_size=(2,), stride=(1,))\n",
            "    (13): Conv1d(32, 32, kernel_size=(2,), stride=(1,))\n",
            "    (14): Conv1d(32, 32, kernel_size=(2,), stride=(1,))\n",
            "    (15): Conv1d(32, 32, kernel_size=(2,), stride=(1,))\n",
            "    (16): Conv1d(32, 32, kernel_size=(2,), stride=(1,))\n",
            "    (17): Conv1d(32, 32, kernel_size=(2,), stride=(1,))\n",
            "    (18): Conv1d(32, 32, kernel_size=(2,), stride=(1,))\n",
            "    (19): Conv1d(32, 32, kernel_size=(2,), stride=(1,))\n",
            "    (20): Conv1d(32, 32, kernel_size=(2,), stride=(1,))\n",
            "    (21): Conv1d(32, 32, kernel_size=(2,), stride=(1,))\n",
            "    (22): Conv1d(32, 32, kernel_size=(2,), stride=(1,))\n",
            "    (23): Conv1d(32, 32, kernel_size=(2,), stride=(1,))\n",
            "    (24): Conv1d(32, 32, kernel_size=(2,), stride=(1,))\n",
            "    (25): Conv1d(32, 32, kernel_size=(2,), stride=(1,))\n",
            "    (26): Conv1d(32, 32, kernel_size=(2,), stride=(1,))\n",
            "    (27): Conv1d(32, 32, kernel_size=(2,), stride=(1,))\n",
            "    (28): Conv1d(32, 32, kernel_size=(2,), stride=(1,))\n",
            "    (29): Conv1d(32, 32, kernel_size=(2,), stride=(1,))\n",
            "  )\n",
            "  (gate_convs): ModuleList(\n",
            "    (0): Conv1d(32, 32, kernel_size=(2,), stride=(1,))\n",
            "    (1): Conv1d(32, 32, kernel_size=(2,), stride=(1,))\n",
            "    (2): Conv1d(32, 32, kernel_size=(2,), stride=(1,))\n",
            "    (3): Conv1d(32, 32, kernel_size=(2,), stride=(1,))\n",
            "    (4): Conv1d(32, 32, kernel_size=(2,), stride=(1,))\n",
            "    (5): Conv1d(32, 32, kernel_size=(2,), stride=(1,))\n",
            "    (6): Conv1d(32, 32, kernel_size=(2,), stride=(1,))\n",
            "    (7): Conv1d(32, 32, kernel_size=(2,), stride=(1,))\n",
            "    (8): Conv1d(32, 32, kernel_size=(2,), stride=(1,))\n",
            "    (9): Conv1d(32, 32, kernel_size=(2,), stride=(1,))\n",
            "    (10): Conv1d(32, 32, kernel_size=(2,), stride=(1,))\n",
            "    (11): Conv1d(32, 32, kernel_size=(2,), stride=(1,))\n",
            "    (12): Conv1d(32, 32, kernel_size=(2,), stride=(1,))\n",
            "    (13): Conv1d(32, 32, kernel_size=(2,), stride=(1,))\n",
            "    (14): Conv1d(32, 32, kernel_size=(2,), stride=(1,))\n",
            "    (15): Conv1d(32, 32, kernel_size=(2,), stride=(1,))\n",
            "    (16): Conv1d(32, 32, kernel_size=(2,), stride=(1,))\n",
            "    (17): Conv1d(32, 32, kernel_size=(2,), stride=(1,))\n",
            "    (18): Conv1d(32, 32, kernel_size=(2,), stride=(1,))\n",
            "    (19): Conv1d(32, 32, kernel_size=(2,), stride=(1,))\n",
            "    (20): Conv1d(32, 32, kernel_size=(2,), stride=(1,))\n",
            "    (21): Conv1d(32, 32, kernel_size=(2,), stride=(1,))\n",
            "    (22): Conv1d(32, 32, kernel_size=(2,), stride=(1,))\n",
            "    (23): Conv1d(32, 32, kernel_size=(2,), stride=(1,))\n",
            "    (24): Conv1d(32, 32, kernel_size=(2,), stride=(1,))\n",
            "    (25): Conv1d(32, 32, kernel_size=(2,), stride=(1,))\n",
            "    (26): Conv1d(32, 32, kernel_size=(2,), stride=(1,))\n",
            "    (27): Conv1d(32, 32, kernel_size=(2,), stride=(1,))\n",
            "    (28): Conv1d(32, 32, kernel_size=(2,), stride=(1,))\n",
            "    (29): Conv1d(32, 32, kernel_size=(2,), stride=(1,))\n",
            "  )\n",
            "  (residual_convs): ModuleList(\n",
            "    (0): Conv1d(32, 32, kernel_size=(1,), stride=(1,))\n",
            "    (1): Conv1d(32, 32, kernel_size=(1,), stride=(1,))\n",
            "    (2): Conv1d(32, 32, kernel_size=(1,), stride=(1,))\n",
            "    (3): Conv1d(32, 32, kernel_size=(1,), stride=(1,))\n",
            "    (4): Conv1d(32, 32, kernel_size=(1,), stride=(1,))\n",
            "    (5): Conv1d(32, 32, kernel_size=(1,), stride=(1,))\n",
            "    (6): Conv1d(32, 32, kernel_size=(1,), stride=(1,))\n",
            "    (7): Conv1d(32, 32, kernel_size=(1,), stride=(1,))\n",
            "    (8): Conv1d(32, 32, kernel_size=(1,), stride=(1,))\n",
            "    (9): Conv1d(32, 32, kernel_size=(1,), stride=(1,))\n",
            "    (10): Conv1d(32, 32, kernel_size=(1,), stride=(1,))\n",
            "    (11): Conv1d(32, 32, kernel_size=(1,), stride=(1,))\n",
            "    (12): Conv1d(32, 32, kernel_size=(1,), stride=(1,))\n",
            "    (13): Conv1d(32, 32, kernel_size=(1,), stride=(1,))\n",
            "    (14): Conv1d(32, 32, kernel_size=(1,), stride=(1,))\n",
            "    (15): Conv1d(32, 32, kernel_size=(1,), stride=(1,))\n",
            "    (16): Conv1d(32, 32, kernel_size=(1,), stride=(1,))\n",
            "    (17): Conv1d(32, 32, kernel_size=(1,), stride=(1,))\n",
            "    (18): Conv1d(32, 32, kernel_size=(1,), stride=(1,))\n",
            "    (19): Conv1d(32, 32, kernel_size=(1,), stride=(1,))\n",
            "    (20): Conv1d(32, 32, kernel_size=(1,), stride=(1,))\n",
            "    (21): Conv1d(32, 32, kernel_size=(1,), stride=(1,))\n",
            "    (22): Conv1d(32, 32, kernel_size=(1,), stride=(1,))\n",
            "    (23): Conv1d(32, 32, kernel_size=(1,), stride=(1,))\n",
            "    (24): Conv1d(32, 32, kernel_size=(1,), stride=(1,))\n",
            "    (25): Conv1d(32, 32, kernel_size=(1,), stride=(1,))\n",
            "    (26): Conv1d(32, 32, kernel_size=(1,), stride=(1,))\n",
            "    (27): Conv1d(32, 32, kernel_size=(1,), stride=(1,))\n",
            "    (28): Conv1d(32, 32, kernel_size=(1,), stride=(1,))\n",
            "    (29): Conv1d(32, 32, kernel_size=(1,), stride=(1,))\n",
            "  )\n",
            "  (skip_convs): ModuleList(\n",
            "    (0): Conv1d(32, 1024, kernel_size=(1,), stride=(1,))\n",
            "    (1): Conv1d(32, 1024, kernel_size=(1,), stride=(1,))\n",
            "    (2): Conv1d(32, 1024, kernel_size=(1,), stride=(1,))\n",
            "    (3): Conv1d(32, 1024, kernel_size=(1,), stride=(1,))\n",
            "    (4): Conv1d(32, 1024, kernel_size=(1,), stride=(1,))\n",
            "    (5): Conv1d(32, 1024, kernel_size=(1,), stride=(1,))\n",
            "    (6): Conv1d(32, 1024, kernel_size=(1,), stride=(1,))\n",
            "    (7): Conv1d(32, 1024, kernel_size=(1,), stride=(1,))\n",
            "    (8): Conv1d(32, 1024, kernel_size=(1,), stride=(1,))\n",
            "    (9): Conv1d(32, 1024, kernel_size=(1,), stride=(1,))\n",
            "    (10): Conv1d(32, 1024, kernel_size=(1,), stride=(1,))\n",
            "    (11): Conv1d(32, 1024, kernel_size=(1,), stride=(1,))\n",
            "    (12): Conv1d(32, 1024, kernel_size=(1,), stride=(1,))\n",
            "    (13): Conv1d(32, 1024, kernel_size=(1,), stride=(1,))\n",
            "    (14): Conv1d(32, 1024, kernel_size=(1,), stride=(1,))\n",
            "    (15): Conv1d(32, 1024, kernel_size=(1,), stride=(1,))\n",
            "    (16): Conv1d(32, 1024, kernel_size=(1,), stride=(1,))\n",
            "    (17): Conv1d(32, 1024, kernel_size=(1,), stride=(1,))\n",
            "    (18): Conv1d(32, 1024, kernel_size=(1,), stride=(1,))\n",
            "    (19): Conv1d(32, 1024, kernel_size=(1,), stride=(1,))\n",
            "    (20): Conv1d(32, 1024, kernel_size=(1,), stride=(1,))\n",
            "    (21): Conv1d(32, 1024, kernel_size=(1,), stride=(1,))\n",
            "    (22): Conv1d(32, 1024, kernel_size=(1,), stride=(1,))\n",
            "    (23): Conv1d(32, 1024, kernel_size=(1,), stride=(1,))\n",
            "    (24): Conv1d(32, 1024, kernel_size=(1,), stride=(1,))\n",
            "    (25): Conv1d(32, 1024, kernel_size=(1,), stride=(1,))\n",
            "    (26): Conv1d(32, 1024, kernel_size=(1,), stride=(1,))\n",
            "    (27): Conv1d(32, 1024, kernel_size=(1,), stride=(1,))\n",
            "    (28): Conv1d(32, 1024, kernel_size=(1,), stride=(1,))\n",
            "    (29): Conv1d(32, 1024, kernel_size=(1,), stride=(1,))\n",
            "  )\n",
            "  (start_conv): Conv1d(256, 32, kernel_size=(1,), stride=(1,))\n",
            "  (end_conv_1): Conv1d(1024, 512, kernel_size=(1,), stride=(1,))\n",
            "  (end_conv_2): Conv1d(512, 256, kernel_size=(1,), stride=(1,))\n",
            ")\n",
            "receptive field:  3070\n",
            "parameter count:  1834592\n"
          ]
        }
      ]
    },
    {
      "cell_type": "code",
      "source": [
        "data = WavenetDataset(dataset_file='/content/dataset.npz',\n",
        "                      item_length=model.receptive_field + model.output_length - 1,\n",
        "                      target_length=model.output_length,\n",
        "                      file_location='/content/',\n",
        "                      test_stride=500)\n",
        "print('the dataset has ' + str(len(data)) + ' items')"
      ],
      "metadata": {
        "colab": {
          "base_uri": "https://localhost:8080/"
        },
        "id": "48qBK5OywbS_",
        "outputId": "01543b3d-b848-41c5-878d-71c2a9843655"
      },
      "execution_count": 29,
      "outputs": [
        {
          "output_type": "stream",
          "name": "stdout",
          "text": [
            "one hot input\n",
            "the dataset has 598277 items\n"
          ]
        }
      ]
    },
    {
      "cell_type": "code",
      "source": [
        "def generate_and_log_samples(step):\n",
        "    sample_length=32000\n",
        "    gen_model = load_latest_model_from('snapshots', use_cuda=False)\n",
        "    print(\"start generating...\")\n",
        "    samples = generate_audio(gen_model,\n",
        "                             length=sample_length,\n",
        "                             temperatures=[0.5])\n",
        "    tf_samples = tf.convert_to_tensor(samples, dtype=tf.float32)\n",
        "    logger.audio_summary('temperature_0.5', tf_samples, step, sr=16000)\n",
        "\n",
        "    samples = generate_audio(gen_model,\n",
        "                             length=sample_length,\n",
        "                             temperatures=[1.])\n",
        "    tf_samples = tf.convert_to_tensor(samples, dtype=tf.float32)\n",
        "    logger.audio_summary('temperature_1.0', tf_samples, step, sr=16000)\n",
        "    print(\"audio clips generated\")\n",
        "\n",
        "\n",
        "# logger = TensorboardLogger(log_interval=200,\n",
        "#                            validation_interval=400,\n",
        "#                            generate_interval=1000,\n",
        "#                            generate_function=generate_and_log_samples,\n",
        "#                            log_dir=\"logs/chaconne_model\")\n",
        "\n",
        "logger = Logger(log_interval=200,\n",
        "                validation_interval=400,\n",
        "                generate_interval=1000)"
      ],
      "metadata": {
        "id": "kT-d8vi_wdPS"
      },
      "execution_count": 30,
      "outputs": []
    },
    {
      "cell_type": "code",
      "source": [
        "trainer = WavenetTrainer(model=model,\n",
        "                         dataset=data,\n",
        "                         lr=0.001,\n",
        "                         snapshot_path='snapshots',\n",
        "                         snapshot_name='chaconne_model',\n",
        "                         snapshot_interval=1000,\n",
        "                         logger=logger,\n",
        "                         dtype=dtype,\n",
        "                         ltype=ltype)\n",
        "\n",
        "print('start training...')\n",
        "trainer.train(batch_size=16, epochs=10)"
      ],
      "metadata": {
        "id": "3eyMDOFow_8a"
      },
      "execution_count": null,
      "outputs": []
    },
    {
      "cell_type": "code",
      "source": [
        "start_data = data[250000][0] # use start data from the data set\n",
        "start_data = torch.max(start_data, 0)[1] # convert one hot vectors to integers\n",
        "\n",
        "def prog_callback(step, total_steps):\n",
        "    print(str(100 * step // total_steps) + \"% generated\")\n",
        "\n",
        "generated = model.generate_fast(num_samples=160000,\n",
        "                                 first_samples=start_data,\n",
        "                                 progress_callback=prog_callback,\n",
        "                                 progress_interval=1000,\n",
        "                                 temperature=1.0,\n",
        "                                 regularize=0.)"
      ],
      "metadata": {
        "id": "vf5WaMunxVsm"
      },
      "execution_count": null,
      "outputs": []
    },
    {
      "cell_type": "code",
      "source": [
        "import IPython.display as ipd\n",
        "\n",
        "ipd.Audio(generated, rate=16000)"
      ],
      "metadata": {
        "id": "5KdAx-NfEMYQ"
      },
      "execution_count": null,
      "outputs": []
    }
  ]
}