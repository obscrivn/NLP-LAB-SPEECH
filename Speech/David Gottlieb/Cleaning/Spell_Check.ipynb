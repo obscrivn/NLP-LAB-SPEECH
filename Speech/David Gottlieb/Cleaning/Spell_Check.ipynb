{
  "cells": [
    {
      "cell_type": "code",
      "execution_count": 18,
      "id": "d839c9b8",
      "metadata": {
        "id": "d839c9b8"
      },
      "outputs": [],
      "source": [
        "import re, collections\n",
        "\n",
        "def tokens(text): \n",
        "    \"\"\"\n",
        "    Get all words from the corpus\n",
        "    \"\"\"\n",
        "    return re.findall('[a-z]+', text.lower()) \n",
        "\n",
        "WORDS = tokens(open('big.txt').read())\n",
        "WORD_COUNTS = collections.Counter(WORDS)"
      ]
    },
    {
      "cell_type": "code",
      "execution_count": 13,
      "id": "01925b0b",
      "metadata": {
        "id": "01925b0b"
      },
      "outputs": [],
      "source": [
        "def edits0(word): \n",
        "    \"\"\"\n",
        "    Return all strings that are zero edits away \n",
        "    from the input word (i.e., the word itself).\n",
        "    \"\"\"\n",
        "    return {word}\n",
        "\n",
        "\n",
        "\n",
        "def edits1(word):\n",
        "    \"\"\"\n",
        "    Return all strings that are one edit away \n",
        "    from the input word.\n",
        "    \"\"\"\n",
        "    alphabet = 'abcdefghijklmnopqrstuvwxyz'\n",
        "    def splits(word):\n",
        "        \"\"\"\n",
        "        Return a list of all possible (first, rest) pairs \n",
        "        that the input word is made of.\n",
        "        \"\"\"\n",
        "        return [(word[:i], word[i:]) \n",
        "                for i in range(len(word)+1)]\n",
        "                \n",
        "    pairs      = splits(word)\n",
        "    deletes    = [a+b[1:]           for (a, b) in pairs if b]\n",
        "    transposes = [a+b[1]+b[0]+b[2:] for (a, b) in pairs if len(b) > 1]\n",
        "    replaces   = [a+c+b[1:]         for (a, b) in pairs for c in alphabet if b]\n",
        "    inserts    = [a+c+b             for (a, b) in pairs for c in alphabet]\n",
        "    return set(deletes + transposes + replaces + inserts)\n",
        "\n",
        "\n",
        "def edits2(word):\n",
        "    \"\"\"Return all strings that are two edits away \n",
        "    from the input word.\n",
        "    \"\"\"\n",
        "    return {e2 for e1 in edits1(word) for e2 in edits1(e1)}"
      ]
    },
    {
      "cell_type": "code",
      "execution_count": 14,
      "id": "440fe5ae",
      "metadata": {
        "id": "440fe5ae"
      },
      "outputs": [],
      "source": [
        "def known(words):\n",
        "    \"\"\"\n",
        "    Return the subset of words that are actually \n",
        "    in our WORD_COUNTS dictionary.\n",
        "    \"\"\"\n",
        "    return {w for w in words if w in WORD_COUNTS}"
      ]
    },
    {
      "cell_type": "code",
      "execution_count": 15,
      "id": "8288253b",
      "metadata": {
        "id": "8288253b"
      },
      "outputs": [],
      "source": [
        "def correct(word):\n",
        "    \"\"\"\n",
        "    Get the best correct spelling for the input word\n",
        "    \"\"\"\n",
        "    # Priority is for edit distance 0, then 1, then 2\n",
        "    # else defaults to the input word itself.\n",
        "    candidates = (known(edits0(word)) or \n",
        "                  known(edits1(word)) or \n",
        "                  known(edits2(word)) or \n",
        "                  [word])\n",
        "    return max(candidates, key=WORD_COUNTS.get)"
      ]
    },
    {
      "cell_type": "code",
      "execution_count": 16,
      "id": "b271c5ba",
      "metadata": {
        "id": "b271c5ba"
      },
      "outputs": [],
      "source": [
        "def correct_match(match):\n",
        "    \"\"\"\n",
        "    Spell-correct word in match, \n",
        "    and preserve proper upper/lower/title case.\n",
        "    \"\"\"\n",
        "    \n",
        "    word = match.group()\n",
        "    def case_of(text):\n",
        "        \"\"\"\n",
        "        Return the case-function appropriate \n",
        "        for text: upper, lower, title, or just str.:\n",
        "            \"\"\"\n",
        "        return (str.upper if text.isupper() else\n",
        "                str.lower if text.islower() else\n",
        "                str.title if text.istitle() else\n",
        "                str)\n",
        "    return case_of(word)(correct(word.lower()))\n",
        "\n",
        "    \n",
        "def correct_text_generic(text):\n",
        "    \"\"\"\n",
        "    Correct all the words within a text, \n",
        "    returning the corrected text.\n",
        "    \"\"\"\n",
        "    return re.sub('[a-zA-Z]+', correct_match, text)"
      ]
    },
    {
      "cell_type": "code",
      "execution_count": null,
      "id": "5f0870ca",
      "metadata": {
        "id": "5f0870ca"
      },
      "outputs": [],
      "source": [
        "correct_text_generic('')"
      ]
    }
  ],
  "metadata": {
    "kernelspec": {
      "display_name": "Python 3 (ipykernel)",
      "language": "python",
      "name": "python3"
    },
    "language_info": {
      "codemirror_mode": {
        "name": "ipython",
        "version": 3
      },
      "file_extension": ".py",
      "mimetype": "text/x-python",
      "name": "python",
      "nbconvert_exporter": "python",
      "pygments_lexer": "ipython3",
      "version": "3.9.7"
    },
    "colab": {
      "name": "Spell Check",
      "provenance": [],
      "collapsed_sections": []
    }
  },
  "nbformat": 4,
  "nbformat_minor": 5
}