{
  "nbformat": 4,
  "nbformat_minor": 0,
  "metadata": {
    "colab": {
      "name": "FastSpeech2 TTS",
      "provenance": [],
      "collapsed_sections": []
    },
    "kernelspec": {
      "name": "python3",
      "display_name": "Python 3"
    },
    "language_info": {
      "name": "python"
    }
  },
  "cells": [
    {
      "cell_type": "code",
      "source": [
        "!pip install huggingface-hub\n",
        "!pip install g2p_en\n",
        "\n",
        "!git clone https://github.com/pytorch/fairseq\n",
        "import os\n",
        "os.chdir('/content/fairseq')\n",
        "!pip install --editable ./"
      ],
      "metadata": {
        "id": "J7kVlZWGpuwF"
      },
      "execution_count": null,
      "outputs": []
    },
    {
      "cell_type": "code",
      "source": [
        "from fairseq.checkpoint_utils import load_model_ensemble_and_task_from_hf_hub\n",
        "from fairseq.models.text_to_speech.hub_interface import TTSHubInterface\n",
        "import IPython.display as ipd\n",
        "\n",
        "\n",
        "models, cfg, task = load_model_ensemble_and_task_from_hf_hub(\n",
        "    \"facebook/fastspeech2-en-ljspeech\",\n",
        "    arg_overrides={\"vocoder\": \"hifigan\", \"fp16\": False}\n",
        ")\n",
        "model = models[0]\n",
        "TTSHubInterface.update_cfg_with_data_cfg(cfg, task.data_cfg)\n",
        "generator = task.build_generator([model], cfg)\n",
        "\n",
        "text = \"[ENTER_TEXT_HERE]\"\n",
        "\n",
        "sample = TTSHubInterface.get_model_input(task, text)\n",
        "wav, rate = TTSHubInterface.get_prediction(task, model, generator, sample)\n",
        "\n",
        "ipd.Audio(wav, rate=rate)"
      ],
      "metadata": {
        "id": "JZkRMYIkkf0x"
      },
      "execution_count": null,
      "outputs": []
    }
  ]
}